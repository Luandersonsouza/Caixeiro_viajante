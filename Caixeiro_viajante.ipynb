{
  "nbformat": 4,
  "nbformat_minor": 0,
  "metadata": {
    "colab": {
      "provenance": [],
      "authorship_tag": "ABX9TyO4KvAVEZSNICsAJ0JwJOXM",
      "include_colab_link": true
    },
    "kernelspec": {
      "name": "python3",
      "display_name": "Python 3"
    },
    "language_info": {
      "name": "python"
    }
  },
  "cells": [
    {
      "cell_type": "markdown",
      "metadata": {
        "id": "view-in-github",
        "colab_type": "text"
      },
      "source": [
        "<a href=\"https://colab.research.google.com/github/Luandersonsouza/Caixeiro_viajante/blob/main/Caixeiro_viajante.ipynb\" target=\"_parent\"><img src=\"https://colab.research.google.com/assets/colab-badge.svg\" alt=\"Open In Colab\"/></a>"
      ]
    },
    {
      "cell_type": "code",
      "execution_count": null,
      "metadata": {
        "colab": {
          "base_uri": "https://localhost:8080/"
        },
        "id": "8AfmJsQez9cj",
        "outputId": "cabb3afa-711b-4775-972b-f9a3671d2bd6"
      },
      "outputs": [
        {
          "output_type": "stream",
          "name": "stdout",
          "text": [
            "Melhor rota encontrada: [9, 11, 14, 17, 18, 15, 19, 16, 13, 10, 12, 5, 8, 4, 0, 2, 3, 1, 6, 7]\n",
            "Custo da melhor rota: 954.1907653614098\n"
          ]
        }
      ],
      "source": [
        "import random\n",
        "import math\n",
        "\n",
        "# Função para calcular a distância entre duas cidades\n",
        "def distance(city1, city2):\n",
        "    return math.sqrt((city1[0] - city2[0])**2 + (city1[1] - city2[1])**2)\n",
        "\n",
        "# Função para calcular o custo de uma rota\n",
        "def route_cost(route, cities):\n",
        "    cost = 0\n",
        "    for i in range(len(route)-1):\n",
        "        cost += distance(cities[route[i]], cities[route[i+1]])\n",
        "    return cost\n",
        "\n",
        "# Função para gerar uma rota inicial aleatória\n",
        "def random_route(n):\n",
        "    route = list(range(n))\n",
        "    random.shuffle(route)\n",
        "    return route\n",
        "\n",
        "# Algoritmo de recristalização simulada\n",
        "def simulated_annealing(cities, initial_temp, cooling_rate, stopping_temp):\n",
        "    current_route = random_route(len(cities))\n",
        "    current_cost = route_cost(current_route, cities)\n",
        "    best_route = current_route.copy()\n",
        "    best_cost = current_cost\n",
        "    temp = initial_temp\n",
        "    while temp > stopping_temp:\n",
        "        next_route = current_route.copy()\n",
        "        # Faz duas cidades trocarem de posição aleatoriamente\n",
        "        i, j = random.sample(range(len(cities)), 2)\n",
        "        next_route[i], next_route[j] = next_route[j], next_route[i]\n",
        "        next_cost = route_cost(next_route, cities)\n",
        "        delta_cost = next_cost - current_cost\n",
        "        if delta_cost < 0:\n",
        "            # Aceita a nova rota se o custo for menor\n",
        "            current_route = next_route\n",
        "            current_cost = next_cost\n",
        "            if current_cost < best_cost:\n",
        "                best_route = current_route\n",
        "                best_cost = current_cost\n",
        "        else:\n",
        "            # Aceita a nova rota com uma probabilidade que depende da temperatura e da diferença de custo\n",
        "            acceptance_prob = math.exp(-delta_cost/temp)\n",
        "            if random.random() < acceptance_prob:\n",
        "                current_route = next_route\n",
        "                current_cost = next_cost\n",
        "        temp *= cooling_rate\n",
        "    return best_route, best_cost\n",
        "\n",
        "# Exemplo de uso\n",
        "cities = [(60, 200), (180, 200), (80, 180), (140, 180), (20, 160), (100, 160), (200, 160), (140, 140), (40, 120), (100, 120), (180, 100), (60, 80), (120, 80), (180, 60), (20, 40), (100, 40), (200, 40), (20, 20), (60, 20), (160, 20)]\n",
        "best_route, best_cost = simulated_annealing(cities, initial_temp=10000, cooling_rate=0.99, stopping_temp=1)\n",
        "print(\"Melhor rota encontrada:\", best_route)\n",
        "print(\"Custo da melhor rota:\", best_cost)\n"
      ]
    }
  ]
}